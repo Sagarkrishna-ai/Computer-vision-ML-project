{
 "cells": [
  {
   "cell_type": "code",
   "execution_count": 1,
   "id": "de35686a",
   "metadata": {},
   "outputs": [],
   "source": [
    "#pip install opencv-python"
   ]
  },
  {
   "cell_type": "code",
   "execution_count": 2,
   "id": "40eb3490",
   "metadata": {},
   "outputs": [],
   "source": [
    "import cv2\n",
    "import numpy as np "
   ]
  },
  {
   "cell_type": "code",
   "execution_count": 3,
   "id": "28ed1cbd",
   "metadata": {},
   "outputs": [],
   "source": [
    "img = cv2.imread(r\"C:\\Users\\kandu\\OneDrive\\Desktop\\group of people.jpg\")"
   ]
  },
  {
   "cell_type": "code",
   "execution_count": 4,
   "id": "b81cb5bc",
   "metadata": {},
   "outputs": [
    {
     "data": {
      "text/plain": [
       "(711, 1024, 3)"
      ]
     },
     "execution_count": 4,
     "metadata": {},
     "output_type": "execute_result"
    }
   ],
   "source": [
    "img.shape"
   ]
  },
  {
   "cell_type": "raw",
   "id": "2eae04f6",
   "metadata": {},
   "source": [
    "Here 1152 is the pixels in height of the image and 2048 is the pixels in width of the image and 3 means it is a colour image"
   ]
  },
  {
   "cell_type": "code",
   "execution_count": 5,
   "id": "8db93b9e",
   "metadata": {},
   "outputs": [
    {
     "data": {
      "text/plain": [
       "array([[[231, 225, 212],\n",
       "        [231, 225, 212],\n",
       "        [231, 225, 212],\n",
       "        ...,\n",
       "        [231, 224, 221],\n",
       "        [231, 224, 221],\n",
       "        [231, 224, 221]],\n",
       "\n",
       "       [[231, 225, 212],\n",
       "        [231, 225, 212],\n",
       "        [231, 225, 212],\n",
       "        ...,\n",
       "        [231, 224, 221],\n",
       "        [231, 224, 221],\n",
       "        [231, 224, 221]],\n",
       "\n",
       "       [[231, 225, 212],\n",
       "        [231, 225, 212],\n",
       "        [231, 225, 212],\n",
       "        ...,\n",
       "        [231, 224, 221],\n",
       "        [231, 224, 221],\n",
       "        [231, 224, 221]],\n",
       "\n",
       "       ...,\n",
       "\n",
       "       [[ 97,  70,  66],\n",
       "        [198, 168, 163],\n",
       "        [213, 177, 169],\n",
       "        ...,\n",
       "        [232, 216, 210],\n",
       "        [234, 215, 210],\n",
       "        [234, 215, 210]],\n",
       "\n",
       "       [[ 97,  66,  63],\n",
       "        [196, 164, 158],\n",
       "        [206, 170, 160],\n",
       "        ...,\n",
       "        [232, 216, 210],\n",
       "        [235, 216, 211],\n",
       "        [235, 216, 211]],\n",
       "\n",
       "       [[121,  89,  84],\n",
       "        [227, 193, 187],\n",
       "        [231, 193, 181],\n",
       "        ...,\n",
       "        [233, 217, 211],\n",
       "        [235, 216, 211],\n",
       "        [235, 216, 211]]], dtype=uint8)"
      ]
     },
     "execution_count": 5,
     "metadata": {},
     "output_type": "execute_result"
    }
   ],
   "source": [
    "img"
   ]
  },
  {
   "cell_type": "code",
   "execution_count": 6,
   "id": "e5b2a652",
   "metadata": {},
   "outputs": [],
   "source": [
    "cv2.imshow('people',img)\n",
    "cv2.waitKey()\n",
    "cv2.destroyAllWindows()\n"
   ]
  },
  {
   "cell_type": "code",
   "execution_count": 7,
   "id": "64c93d8d",
   "metadata": {},
   "outputs": [
    {
     "data": {
      "text/plain": [
       "True"
      ]
     },
     "execution_count": 7,
     "metadata": {},
     "output_type": "execute_result"
    }
   ],
   "source": [
    "cv2.imwrite('people_b_w.jpg',img)"
   ]
  },
  {
   "cell_type": "code",
   "execution_count": 8,
   "id": "fa030417",
   "metadata": {},
   "outputs": [],
   "source": [
    "img = cv2.imread(r\"C:\\Users\\kandu\\OneDrive\\Desktop\\group of people.jpg\")\n",
    "resize_image=cv2.resize(img,(500,500))\n",
    "gray=cv2.cvtColor(resize_image,cv2.COLOR_BGR2GRAY)\n",
    "img=cv2.imshow('people Image',gray)\n",
    "cv2.waitKey()\n",
    "cv2.destroyAllWindows()"
   ]
  },
  {
   "cell_type": "code",
   "execution_count": 9,
   "id": "d52c1b0d",
   "metadata": {},
   "outputs": [
    {
     "name": "stderr",
     "output_type": "stream",
     "text": [
      "<>:7: SyntaxWarning: \"is\" with a literal. Did you mean \"==\"?\n",
      "<>:7: SyntaxWarning: \"is\" with a literal. Did you mean \"==\"?\n",
      "C:\\Users\\kandu\\AppData\\Local\\Temp\\ipykernel_16420\\3183164892.py:7: SyntaxWarning: \"is\" with a literal. Did you mean \"==\"?\n",
      "  if faces is ():\n"
     ]
    }
   ],
   "source": [
    "\n",
    "face_classifier=cv2.CascadeClassifier(r\"C:\\Users\\kandu\\sagar.k\\dataset\\Haarcascades\\haarcascade_frontalface_default.xml\")\n",
    "image = cv2.imread(r\"C:\\Users\\kandu\\OneDrive\\Desktop\\group of people.jpg\")\n",
    "img=cv2.resize(image,(500,500))\n",
    "gray=cv2.cvtColor(img,cv2.COLOR_BGR2GRAY)\n",
    "faces = face_classifier.detectMultiScale(gray, 1.05, 5)\n",
    "\n",
    "if faces is ():\n",
    "    print('no face found')\n",
    "\n",
    "for (x,y,w,h) in faces:\n",
    "    cv2.rectangle(img, (x,y), (x+w, y+h), (0, 255, 100), 1)\n",
    "    cv2.imshow('Face Detection', img)\n",
    "cv2.waitKey()\n",
    "cv2.destroyAllWindows()"
   ]
  },
  {
   "cell_type": "code",
   "execution_count": 11,
   "id": "d4b60beb",
   "metadata": {},
   "outputs": [
    {
     "name": "stderr",
     "output_type": "stream",
     "text": [
      "<>:8: SyntaxWarning: \"is\" with a literal. Did you mean \"==\"?\n",
      "<>:8: SyntaxWarning: \"is\" with a literal. Did you mean \"==\"?\n",
      "C:\\Users\\kandu\\AppData\\Local\\Temp\\ipykernel_16420\\2446322092.py:8: SyntaxWarning: \"is\" with a literal. Did you mean \"==\"?\n",
      "  if faces is ():\n"
     ]
    }
   ],
   "source": [
    "face_classifier=cv2.CascadeClassifier(r\"C:\\Users\\kandu\\sagar.k\\dataset\\Haarcascades\\haarcascade_frontalface_default.xml\")\n",
    "eye_classifier=cv2.CascadeClassifier(r\"C:\\Users\\kandu\\sagar.k\\dataset\\Haarcascades\\haarcascade_eye.xml\")\n",
    "image=cv2.imread(r\"C:\\Users\\kandu\\OneDrive\\Desktop\\boy-group-the-boyz.jpg\")\n",
    "img=cv2.resize(img,(500,500))\n",
    "gray=cv2.cvtColor(img,cv2.COLOR_BGR2GRAY)\n",
    "faces=face_classifier.detectMultiScale(gray,1.3,5)\n",
    "\n",
    "if faces is ():\n",
    "    print('no face found')\n",
    "for (x,y,w,h) in faces:\n",
    "    cv2.rectangle(img,(x,y),(x+w,y+h),(255,0,0),2)\n",
    "    eye_gray=gray[y:y+h,x:x+w]\n",
    "    eye_color=img[y:y+h,x:x+w]\n",
    "    eyes=eye_classifier.detectMultiScale(eye_gray,1.1,3)\n",
    "    for (ex,ey,ew,eh)in eyes:\n",
    "        cv2.rectangle(eye_color,(ex,ey),(ex+ew,ey+eh),(0,255,0),2)\n",
    "cv2.imshow('img',img)\n",
    "cv2.waitKey()\n",
    "cv2.destroyAllWindows()"
   ]
  },
  {
   "cell_type": "code",
   "execution_count": null,
   "id": "b7c67fa2",
   "metadata": {},
   "outputs": [],
   "source": []
  },
  {
   "cell_type": "code",
   "execution_count": null,
   "id": "9a491848",
   "metadata": {},
   "outputs": [],
   "source": []
  }
 ],
 "metadata": {
  "kernelspec": {
   "display_name": "Python 3 (ipykernel)",
   "language": "python",
   "name": "python3"
  },
  "language_info": {
   "codemirror_mode": {
    "name": "ipython",
    "version": 3
   },
   "file_extension": ".py",
   "mimetype": "text/x-python",
   "name": "python",
   "nbconvert_exporter": "python",
   "pygments_lexer": "ipython3",
   "version": "3.9.13"
  }
 },
 "nbformat": 4,
 "nbformat_minor": 5
}
